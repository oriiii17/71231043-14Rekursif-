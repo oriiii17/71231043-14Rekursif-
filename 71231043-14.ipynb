{
 "cells": [
  {
   "cell_type": "code",
   "execution_count": 1,
   "id": "07bcbe94-580f-49cf-92d6-23bde307e7a5",
   "metadata": {},
   "outputs": [],
   "source": [
    "#Contoh Base Case dalam Fungsi Faktorial\n",
    "def faktorial(n):\n",
    "    if n == 0:  # Base case\n",
    "        return 1\n",
    "    else:\n",
    "        return n * faktorial(n - 1)"
   ]
  },
  {
   "cell_type": "code",
   "execution_count": null,
   "id": "01971b2b-84ab-4c65-ad07-ad42ede87c5e",
   "metadata": {},
   "outputs": [],
   "source": [
    "def faktorial(n):\n",
    "    if n == 0:\n",
    "        return 1  # Base case\n",
    "    else:\n",
    "        return n * faktorial(n - 1)  # Recursive case"
   ]
  },
  {
   "cell_type": "code",
   "execution_count": 2,
   "id": "84cdecc0-f9ef-4b0f-afaa-a8ff9356d9ca",
   "metadata": {},
   "outputs": [
    {
     "name": "stdout",
     "output_type": "stream",
     "text": [
      "5\n"
     ]
    }
   ],
   "source": [
    "# Studi Kasus 1: Menghitung Panjang Daftar\n",
    "def panjang_daftar(lst):\n",
    "    if not lst:\n",
    "        return 0\n",
    "    else:\n",
    "        return 1 + panjang_daftar(lst[1:])\n",
    "\n",
    "daftar = [1, 2, 3, 4, 5]\n",
    "print(panjang_daftar(daftar))"
   ]
  },
  {
   "cell_type": "code",
   "execution_count": 3,
   "id": "7cc119e0-8b98-4cf7-adda-53746123d6c1",
   "metadata": {},
   "outputs": [
    {
     "name": "stdout",
     "output_type": "stream",
     "text": [
      "15\n"
     ]
    }
   ],
   "source": [
    "# Studi Kasus 2: Menghitung Jumlah Elemen dalam Daftar\n",
    "def jumlah_daftar(lst):\n",
    "    if not lst:\n",
    "        return 0\n",
    "    else:\n",
    "        return lst[0] + jumlah_daftar(lst[1:])\n",
    "\n",
    "daftar = [1, 2, 3, 4, 5]\n",
    "print(jumlah_daftar(daftar))  "
   ]
  },
  {
   "cell_type": "code",
   "execution_count": 5,
   "id": "5c030b89-2b6b-41ba-8b72-313f0bd2d7c9",
   "metadata": {},
   "outputs": [
    {
     "name": "stdout",
     "output_type": "stream",
     "text": [
      "29 adalah bilangan prima\n"
     ]
    }
   ],
   "source": [
    "# Latihan 13.1\n",
    "def is_prime_recursive(n, divisor=2):\n",
    "    if n < 2:\n",
    "        return False\n",
    "    \n",
    "    if divisor > n // 2:\n",
    "        return True\n",
    "    \n",
    "    if n % divisor == 0:\n",
    "        return False\n",
    "    \n",
    "    return is_prime_recursive(n, divisor + 1)\n",
    "\n",
    "bilangan = 29\n",
    "if is_prime_recursive(bilangan):\n",
    "    print(f\"{bilangan} adalah bilangan prima\")\n",
    "else:\n",
    "    print(f\"{bilangan} bukan bilangan prima\")"
   ]
  },
  {
   "cell_type": "code",
   "execution_count": 6,
   "id": "fb43a6e3-90b2-446b-8378-dddf1e3e1526",
   "metadata": {},
   "outputs": [
    {
     "name": "stdout",
     "output_type": "stream",
     "text": [
      "True\n"
     ]
    }
   ],
   "source": [
    "# Latihan 13.2\n",
    "def adalah_palindrom(kalimat):\n",
    "    def bersihkan_kalimat(kalimat):\n",
    "        dibersihkan = ''\n",
    "        for char in kalimat:\n",
    "            if char.isalnum(): \n",
    "                dibersihkan += char.lower()\n",
    "        return dibersihkan\n",
    "\n",
    "    def periksa_palindrom(kalimat_bersih):\n",
    "        if len(kalimat_bersih) <= 1:\n",
    "            return True\n",
    "        if kalimat_bersih[0] != kalimat_bersih[-1]:\n",
    "            return False\n",
    "        return periksa_palindrom(kalimat_bersih[1:-1])\n",
    "\n",
    "    kalimat_bersih = bersihkan_kalimat(kalimat)\n",
    "    return periksa_palindrom(kalimat_bersih)\n",
    "\n",
    "kalimat = \"Kasur ini rusak\"\n",
    "print(adalah_palindrom(kalimat))  "
   ]
  },
  {
   "cell_type": "code",
   "execution_count": 7,
   "id": "9b1b1f41-0a22-487b-ac15-156812fc89a4",
   "metadata": {},
   "outputs": [
    {
     "name": "stdout",
     "output_type": "stream",
     "text": [
      "25\n"
     ]
    }
   ],
   "source": [
    "# Latihan 13.3\n",
    "def jumlah_deret_ganjil(n):\n",
    "    if n == 1:\n",
    "        return 1\n",
    "    \n",
    "    ganjil_saat_ini = 2 * n - 1\n",
    "    \n",
    "    jumlah_sebelumnya = jumlah_deret_ganjil(n - 1)\n",
    "    \n",
    "    jumlah_saat_ini = jumlah_sebelumnya + ganjil_saat_ini\n",
    "    \n",
    "    return jumlah_saat_ini\n",
    "\n",
    "hasil = jumlah_deret_ganjil(5)\n",
    "print(hasil)"
   ]
  },
  {
   "cell_type": "code",
   "execution_count": 8,
   "id": "9f384815-7901-4bc4-ac3f-c5fd74f3ef31",
   "metadata": {},
   "outputs": [
    {
     "name": "stdout",
     "output_type": "stream",
     "text": [
      "9\n"
     ]
    }
   ],
   "source": [
    "# Latihan 13.4\n",
    "def jumlah_digit(angka):\n",
    "    if angka < 10:\n",
    "        return angka\n",
    "    \n",
    "    digit_terakhir = angka % 10\n",
    "    \n",
    "    angka_tanpa_digit_terakhir = angka // 10\n",
    "    \n",
    "    jumlah_digit_sisa = jumlah_digit(angka_tanpa_digit_terakhir)\n",
    "    \n",
    "    jumlah_digit_keseluruhan = jumlah_digit_sisa + digit_terakhir\n",
    "    \n",
    "    return jumlah_digit_keseluruhan\n",
    "\n",
    "hasil = jumlah_digit(234)\n",
    "print(hasil)"
   ]
  },
  {
   "cell_type": "code",
   "execution_count": 9,
   "id": "e6530934-5b3b-4b4b-97f3-a0e8b62c4520",
   "metadata": {},
   "outputs": [
    {
     "name": "stdout",
     "output_type": "stream",
     "text": [
      "10\n"
     ]
    }
   ],
   "source": [
    "# Latihan 13.5\n",
    "def kombinasi(n, r):\n",
    "    if r > n:\n",
    "        return 0\n",
    "    \n",
    "    if r == 0 or r == n:\n",
    "        return 1\n",
    "    \n",
    "    kombinasi_sebelumnya_1 = kombinasi(n-1, r-1)\n",
    "    kombinasi_sebelumnya_2 = kombinasi(n-1, r)\n",
    "    \n",
    "    kombinasi_saat_ini = kombinasi_sebelumnya_1 + kombinasi_sebelumnya_2\n",
    "    \n",
    "    return kombinasi_saat_ini\n",
    "\n",
    "hasil = kombinasi(5, 3)\n",
    "print(hasil)"
   ]
  },
  {
   "cell_type": "code",
   "execution_count": null,
   "id": "48751ddc-85bd-4670-91bd-ebccef888f17",
   "metadata": {},
   "outputs": [],
   "source": []
  }
 ],
 "metadata": {
  "kernelspec": {
   "display_name": "Python 3 (ipykernel)",
   "language": "python",
   "name": "python3"
  },
  "language_info": {
   "codemirror_mode": {
    "name": "ipython",
    "version": 3
   },
   "file_extension": ".py",
   "mimetype": "text/x-python",
   "name": "python",
   "nbconvert_exporter": "python",
   "pygments_lexer": "ipython3",
   "version": "3.11.7"
  }
 },
 "nbformat": 4,
 "nbformat_minor": 5
}
